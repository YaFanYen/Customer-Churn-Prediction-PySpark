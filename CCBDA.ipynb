{
  "nbformat": 4,
  "nbformat_minor": 0,
  "metadata": {
    "kernelspec": {
      "display_name": "Python 3",
      "language": "python",
      "name": "python3"
    },
    "language_info": {
      "codemirror_mode": {
        "name": "ipython",
        "version": 3
      },
      "file_extension": ".py",
      "mimetype": "text/x-python",
      "name": "python",
      "nbconvert_exporter": "python",
      "pygments_lexer": "ipython3",
      "version": "3.8.5"
    },
    "colab": {
      "name": "CCBDA.ipynb",
      "provenance": [],
      "collapsed_sections": []
    }
  },
  "cells": [
    {
      "cell_type": "markdown",
      "metadata": {
        "id": "4RyR7B398N3_"
      },
      "source": [
        "# Use Pyspark to view dataset "
      ]
    },
    {
      "cell_type": "code",
      "metadata": {
        "id": "I9bBAnwy8udl",
        "colab": {
          "base_uri": "https://localhost:8080/"
        },
        "outputId": "4d03f480-7f22-42bc-bddc-c618d6c3a245"
      },
      "source": [
        "!apt-get -y install openjdk-8-jre-headless\n",
        "!pip install pyspark"
      ],
      "execution_count": 2,
      "outputs": [
        {
          "output_type": "stream",
          "text": [
            "Reading package lists... Done\n",
            "Building dependency tree       \n",
            "Reading state information... Done\n",
            "Suggested packages:\n",
            "  libnss-mdns fonts-dejavu-extra fonts-ipafont-gothic fonts-ipafont-mincho\n",
            "  fonts-wqy-microhei fonts-wqy-zenhei fonts-indic\n",
            "The following NEW packages will be installed:\n",
            "  openjdk-8-jre-headless\n",
            "0 upgraded, 1 newly installed, 0 to remove and 39 not upgraded.\n",
            "Need to get 28.2 MB of archives.\n",
            "After this operation, 104 MB of additional disk space will be used.\n",
            "Get:1 http://archive.ubuntu.com/ubuntu bionic-updates/universe amd64 openjdk-8-jre-headless amd64 8u292-b10-0ubuntu1~18.04 [28.2 MB]\n",
            "Fetched 28.2 MB in 2s (16.2 MB/s)\n",
            "Selecting previously unselected package openjdk-8-jre-headless:amd64.\n",
            "(Reading database ... 160772 files and directories currently installed.)\n",
            "Preparing to unpack .../openjdk-8-jre-headless_8u292-b10-0ubuntu1~18.04_amd64.deb ...\n",
            "Unpacking openjdk-8-jre-headless:amd64 (8u292-b10-0ubuntu1~18.04) ...\n",
            "Setting up openjdk-8-jre-headless:amd64 (8u292-b10-0ubuntu1~18.04) ...\n",
            "update-alternatives: using /usr/lib/jvm/java-8-openjdk-amd64/jre/bin/orbd to provide /usr/bin/orbd (orbd) in auto mode\n",
            "update-alternatives: using /usr/lib/jvm/java-8-openjdk-amd64/jre/bin/servertool to provide /usr/bin/servertool (servertool) in auto mode\n",
            "update-alternatives: using /usr/lib/jvm/java-8-openjdk-amd64/jre/bin/tnameserv to provide /usr/bin/tnameserv (tnameserv) in auto mode\n",
            "Collecting pyspark\n",
            "\u001b[?25l  Downloading https://files.pythonhosted.org/packages/89/db/e18cfd78e408de957821ec5ca56de1250645b05f8523d169803d8df35a64/pyspark-3.1.2.tar.gz (212.4MB)\n",
            "\u001b[K     |████████████████████████████████| 212.4MB 57kB/s \n",
            "\u001b[?25hCollecting py4j==0.10.9\n",
            "\u001b[?25l  Downloading https://files.pythonhosted.org/packages/9e/b6/6a4fb90cd235dc8e265a6a2067f2a2c99f0d91787f06aca4bcf7c23f3f80/py4j-0.10.9-py2.py3-none-any.whl (198kB)\n",
            "\u001b[K     |████████████████████████████████| 204kB 16.8MB/s \n",
            "\u001b[?25hBuilding wheels for collected packages: pyspark\n",
            "  Building wheel for pyspark (setup.py) ... \u001b[?25l\u001b[?25hdone\n",
            "  Created wheel for pyspark: filename=pyspark-3.1.2-py2.py3-none-any.whl size=212880768 sha256=aadd7f8970a4a1d4301536eeeb5093db5af9d1974282c20e83a3fe9a6dfc13fd\n",
            "  Stored in directory: /root/.cache/pip/wheels/40/1b/2c/30f43be2627857ab80062bef1527c0128f7b4070b6b2d02139\n",
            "Successfully built pyspark\n",
            "Installing collected packages: py4j, pyspark\n",
            "Successfully installed py4j-0.10.9 pyspark-3.1.2\n"
          ],
          "name": "stdout"
        }
      ]
    },
    {
      "cell_type": "code",
      "metadata": {
        "id": "UduP6UVn8N3_",
        "colab": {
          "base_uri": "https://localhost:8080/"
        },
        "outputId": "6deea289-46d6-4f10-f150-b39d264b628c"
      },
      "source": [
        "from pyspark.sql import SparkSession\n",
        "spark = SparkSession.builder.appName('Churn_Modelling').getOrCreate()\n",
        "df = spark.read.csv('public.csv', header=True, inferSchema=True)\n",
        "df.printSchema()"
      ],
      "execution_count": 3,
      "outputs": [
        {
          "output_type": "stream",
          "text": [
            "root\n",
            " |-- CustomerId: integer (nullable = true)\n",
            " |-- Surname: string (nullable = true)\n",
            " |-- CreditScore: integer (nullable = true)\n",
            " |-- Geography: string (nullable = true)\n",
            " |-- Gender: string (nullable = true)\n",
            " |-- Age: integer (nullable = true)\n",
            " |-- Tenure: integer (nullable = true)\n",
            " |-- Balance: double (nullable = true)\n",
            " |-- NumOfProducts: integer (nullable = true)\n",
            " |-- HasCrCard: integer (nullable = true)\n",
            " |-- IsActiveMember: integer (nullable = true)\n",
            " |-- EstimatedSalary: double (nullable = true)\n",
            " |-- Exited: integer (nullable = true)\n",
            "\n"
          ],
          "name": "stdout"
        }
      ]
    },
    {
      "cell_type": "markdown",
      "metadata": {
        "id": "V_X8XTYn8N4A"
      },
      "source": [
        "# Training Part"
      ]
    },
    {
      "cell_type": "code",
      "metadata": {
        "id": "QtKTHCIW8N4A"
      },
      "source": [
        "from pyspark.sql.functions import col\n",
        "from pyspark.ml import Pipeline\n",
        "from pyspark.ml.feature import OneHotEncoder, StringIndexer, VectorAssembler\n",
        "from pyspark.ml.classification import RandomForestClassifier",
        "from sklearn import metrics\n",
        "import numpy as np\n"
      ],
      "execution_count": 4,
      "outputs": []
    },
    {
      "cell_type": "code",
      "metadata": {
        "id": "c9pSXmi8B0I_"
      },
      "source": [
        "customer_df = df.select(df['CustomerId'],\n",
        "             df['CreditScore'], \n",
        "             df['Gender'], \n",
        "             df['Age'],\n",
        "             df['Tenure'], \n",
        "             df['Balance'], \n",
        "             df['NumOfProducts'], \n",
        "             df['HasCrCard'], \n",
        "             df['IsActiveMember'], \n",
        "             df['EstimatedSalary'],\n",
        "             df['Exited'])"
      ],
      "execution_count": 5,
      "outputs": []
    },
    {
      "cell_type": "code",
      "metadata": {
        "id": "vx_a-rr0IRWA"
      },
      "source": [
        "sI1 = StringIndexer(inputCol='Gender', outputCol='GenderIndex')\n",
        "en1 = OneHotEncoder(dropLast=False, inputCol='GenderIndex', outputCol='GenderVec')\n",
        "\n",
        "customer_final_df = Pipeline(stages=[sI1, en1]).fit(customer_df).transform(customer_df)"
      ],
      "execution_count": 6,
      "outputs": []
    },
    {
      "cell_type": "code",
      "metadata": {
        "id": "b2a269pHDbh_"
      },
      "source": [
        "required_features = ['CreditScore', 'GenderVec', 'Age', 'Tenure', 'Balance', 'NumOfProducts', 'HasCrCard', 'IsActiveMember','EstimatedSalary']\n",
        "assembler = VectorAssembler(inputCols=required_features, outputCol='features')\n",
        "transformed_data = assembler.transform(customer_final_df)\n",
        "(training_data, test_data) = transformed_data.randomSplit([0.8, 0.2])\n",
        "\n",
        "rf = RandomForestClassifier(labelCol='Exited', featuresCol='features', maxDepth=5)\n",
        "model = rf.fit(training_data)"
      ],
      "execution_count": 7,
      "outputs": []
    },
    {
      "cell_type": "markdown",
      "metadata": {
        "id": "T2M6PXVx8N4A"
      },
      "source": [
        "# Evaluation Part"
      ]
    },
    {
      "cell_type": "code",
      "metadata": {
        "colab": {
          "base_uri": "https://localhost:8080/"
        },
        "id": "F67z7hGj_uOJ",
        "outputId": "abfdfa12-c347-4119-adb5-2af0e8405147"
      },
      "source": [
        "\n",
        "data_array =  np.array(test_data.select('Exited').collect())\n",
        "\n",
        "predict = model.transform(test_data)\n",
        "predict = predict.select(col('CustomerId').cast('int').alias('CustomerId'),\n",
        "          col('prediction').cast('int').alias('Exited'))\n",
        "predict_array = np.array(predict.select('Exited').collect())\n",
        "\n",
        "metrics.f1_score(data_array, predict_array, average='micro')"
      ],
      "execution_count": 8,
      "outputs": [
        {
          "output_type": "execute_result",
          "data": {
            "text/plain": [
              "0.839924670433145"
            ]
          },
          "metadata": {
            "tags": []
          },
          "execution_count": 8
        }
      ]
    },
    {
      "cell_type": "markdown",
      "metadata": {
        "id": "rYDW9Oup8N4B"
      },
      "source": [
        "## Load private dataset, the same structure as public dataset"
      ]
    },
    {
      "cell_type": "code",
      "metadata": {
        "id": "Vytt8ddN8N4B"
      },
      "source": [
        "df_private = spark.read.csv('public.csv', header=True, inferSchema=True)"
      ],
      "execution_count": 9,
      "outputs": []
    },
    {
      "cell_type": "code",
      "metadata": {
        "id": "4omrBX4q8N4C"
      },
      "source": [
        "customer_test_df = df_private.select(df_private['CustomerId'],\n",
        "             df_private['CreditScore'], \n",
        "             df_private['Gender'], \n",
        "             df_private['Age'],\n",
        "             df_private['Tenure'], \n",
        "             df_private['Balance'], \n",
        "             df_private['NumOfProducts'], \n",
        "             df_private['HasCrCard'], \n",
        "             df_private['IsActiveMember'], \n",
        "             df_private['EstimatedSalary'],\n",
        "             df_private['Exited'])\n",
        "\n",
        "sI1 = StringIndexer(inputCol='Gender', outputCol='GenderIndex')\n",
        "en1 = OneHotEncoder(dropLast=False, inputCol='GenderIndex', outputCol='GenderVec')\n",
        "customer_final_df = Pipeline(stages=[sI1, en1]).fit(customer_test_df).transform(customer_test_df)\n",
        "\n",
        "required_features = ['CreditScore', 'GenderVec', 'Age', 'Tenure', 'Balance', 'NumOfProducts', 'HasCrCard', 'IsActiveMember','EstimatedSalary']\n",
        "assembler_test = VectorAssembler(inputCols=required_features, outputCol='features')\n",
        "transformed_test_data = assembler_test.transform(customer_final_df)\n",
        "\n",
        "predict_test = model.transform(transformed_test_data)\n",
        "predict_test = predict_test.select(col('CustomerId').cast('int').alias('CustomerId'), col('prediction').cast('int').alias('Exited'))"
      ],
      "execution_count": 10,
      "outputs": []
    },
    {
      "cell_type": "markdown",
      "metadata": {
        "id": "OHoPP0IP8N4C"
      },
      "source": [
        "## Use the following function to get your prediction result (f-1 score)"
      ]
    },
    {
      "cell_type": "code",
      "metadata": {
        "id": "oE3IoCH38N4D",
        "colab": {
          "base_uri": "https://localhost:8080/"
        },
        "outputId": "e17b18a6-0392-478f-bde3-fa278beb75be"
      },
      "source": [
        "\n",
        "data_array =  np.array(customer_final_df.select('Exited').collect())\n",
        "predict_array = np.array(predict_test.select('Exited').collect())\n",
        "\n",
        "metrics.f1_score(data_array, predict_array, average='micro')"
      ],
      "execution_count": 11,
      "outputs": [
        {
          "output_type": "execute_result",
          "data": {
            "text/plain": [
              "0.8576250000000001"
            ]
          },
          "metadata": {
            "tags": []
          },
          "execution_count": 11
        }
      ]
    }
  ]
}
